{
 "cells": [
  {
   "cell_type": "code",
   "execution_count": 134,
   "metadata": {
    "ExecuteTime": {
     "end_time": "2017-05-02T13:19:37.817359Z",
     "start_time": "2017-05-02T13:19:37.802222Z"
    },
    "collapsed": true
   },
   "outputs": [],
   "source": [
    "%matplotlib inline"
   ]
  },
  {
   "cell_type": "code",
   "execution_count": 410,
   "metadata": {
    "ExecuteTime": {
     "end_time": "2017-05-02T14:36:39.629724Z",
     "start_time": "2017-05-02T14:36:39.435299Z"
    },
    "collapsed": false
   },
   "outputs": [],
   "source": [
    "import inspect\n",
    "import hashlib\n",
    "import re\n",
    "import networkx as nx\n",
    "import os\n",
    "\n",
    "class Task:\n",
    "    def __init__(self, name, desc, provides, requires):\n",
    "        self.name = name\n",
    "        self.desc = desc\n",
    "        self.provides = provides\n",
    "        self.requires = requires\n",
    "        self.has_run = False\n",
    "\n",
    "    def __repr__(self):\n",
    "        status = 'has run' if self.has_run else 'need run'\n",
    "        s = 'Task: %s (%s)' % (self.name, status)\n",
    "        return s\n",
    "    \n",
    "    @property\n",
    "    def need_run(self):\n",
    "        dont_need_run = self.has_run and all((dt.exists for dt in self.provides))\n",
    "        return not dont_need_run\n",
    "    \n",
    "    def run(self):\n",
    "        ret = self.fun()\n",
    "        # Mark as runned and out file up to date\n",
    "        # print('setting %s.has_run = True' % self)\n",
    "        self.has_run = True\n",
    "        return ret\n",
    "\n",
    "class Data:\n",
    "    def __init__(self, datafile):\n",
    "        self.datafile = datafile\n",
    "        self.desc = 'Data: %s' % datafile\n",
    "\n",
    "    @property\n",
    "    def exists(self):\n",
    "        return os.path.isfile(self.datafile)\n",
    "        \n",
    "    def __repr__(self):\n",
    "        return self.desc\n",
    "\n",
    "DIN_RE = re.compile('\\.din\\([\\'\"](\\w+)[\\'\"]\\)')\n",
    "DOUT_RE = re.compile('\\.dout\\([\\'\"](\\w+)[\\'\"]\\)')\n",
    "\n",
    "class TaskManager:\n",
    "    def __init__(self):\n",
    "        self.tasks = dict()\n",
    "        self.graph = nx.DiGraph()\n",
    "        self.str_to_data = dict()\n",
    "        self.data_to_provider = dict()\n",
    "        \n",
    "    def get_or_register_data(self, datafile):\n",
    "        if datafile in self.str_to_data:\n",
    "            return self.str_to_data[datafile]\n",
    "        else:\n",
    "            data_obj = Data(datafile)\n",
    "            self.str_to_data[datafile] = data_obj\n",
    "            return data_obj\n",
    "        \n",
    "    def register(self, fun):\n",
    "        desc = inspect.getdoc(fun)\n",
    "        src = inspect.getsource(fun)\n",
    "        hsh = hashlib.sha256(src.encode('utf-8')).hexdigest()\n",
    "        fun_name = fun.__name__\n",
    "        \n",
    "        data_in = [self.get_or_register_data(dt) for dt in re.findall(DIN_RE, src)]\n",
    "        data_out = [self.get_or_register_data(dt) for dt in re.findall(DOUT_RE, src)]\n",
    "\n",
    "        def set_task(task):\n",
    "            task.hash = hsh\n",
    "            task.src = src\n",
    "            task.desc = desc\n",
    "            task.fun = fun\n",
    "            # Invalidate data provided\n",
    "            for d in data_out:\n",
    "                self.data_to_provider[d] = task\n",
    "\n",
    "        if fun_name in self.graph:\n",
    "            task = self.graph.node[fun_name]['task']\n",
    "            if task.hash != hsh:\n",
    "                set_task(task)\n",
    "            else:\n",
    "                print('skipping')\n",
    "        else:\n",
    "            task = Task(fun_name, desc, requires=data_in, provides=data_out)\n",
    "            set_task(task)\n",
    "            \n",
    "        # self.tasks[fun_name] = task\n",
    "            \n",
    "        # Add current node to the graph\n",
    "        if task.name in self.graph: \n",
    "            self.graph.remove_node(task.name)\n",
    "        self.graph.add_node(task.name, task=task)\n",
    "        \n",
    "        # Add edges to parent tasks\n",
    "        for din in data_in:\n",
    "            if din not in self.data_to_provider:\n",
    "                raise Exception('No provider found for «%s»' % din)                \n",
    "            provider_task = self.data_to_provider[din]\n",
    "            \n",
    "            # print('Linking %s to %s' % (task.name, provider_task.name))          \n",
    "            self.graph.add_edge(task.name, provider_task.name)\n",
    "\n",
    "        def filter_graph():\n",
    "            newG = self.graph.copy()\n",
    "            for node in newG.nodes():\n",
    "                t = self.graph.node[node]['task']\n",
    "                if t.need_run or task.name == t.name:\n",
    "                    pass # print(task, 'needs run', task.has_run, [dt.exists for dt in task.requires])\n",
    "                else:\n",
    "                    # print(task, 'removing', task.has_run, [dt.exists for dt in task.requires])\n",
    "                    newG.remove_node(node)\n",
    "\n",
    "            return newG\n",
    "\n",
    "        def wrap(*args, **kwargs):\n",
    "            # Build dep tree\n",
    "            g = nx.ego_graph(filter_graph(), task.name, radius=100)\n",
    "            node_order = nx.topological_sort(g, reverse=True)\n",
    "            # print('order: ', node_order)\n",
    "            for node in node_order:\n",
    "                print()\n",
    "                task_obj = self.graph.node[node]['task']\n",
    "                ret = task_obj.run()\n",
    "\n",
    "            return ret\n",
    "\n",
    "        return wrap\n",
    "\n",
    "    def din(self, s):\n",
    "        '''Dummy function to show data in'''\n",
    "        return s\n",
    "    \n",
    "    def dout(self, s):\n",
    "        '''Dummy function to show data out'''\n",
    "        return s\n"
   ]
  },
  {
   "cell_type": "code",
   "execution_count": 417,
   "metadata": {
    "ExecuteTime": {
     "end_time": "2017-05-02T14:37:23.726469Z",
     "start_time": "2017-05-02T14:37:23.687142Z"
    },
    "collapsed": false
   },
   "outputs": [],
   "source": [
    "import sh\n",
    "\n",
    "tm = TaskManager()\n",
    "\n",
    "@tm.register\n",
    "def A():\n",
    "    print('Exec A')\n",
    "    sh.touch(tm.dout('Aout1'))\n",
    "    sh.touch(tm.dout('Aout2'))\n",
    "\n",
    "@tm.register\n",
    "def B():\n",
    "    print('Exec B')\n",
    "    assert os.path.exists(tm.din('Aout1'))\n",
    "    assert os.path.exists(tm.din('Aout2'))\n",
    "    sh.touch(tm.dout('Bout'))\n",
    "    \n",
    "@tm.register\n",
    "def C():\n",
    "    print('Exec C')\n",
    "    assert os.path.exists(tm.din('Aout1'))\n",
    "    assert os.path.exists(tm.din('Bout'))\n",
    "    sh.touch(tm.dout('Cout'))\n",
    "    \n",
    "@tm.register\n",
    "def D():\n",
    "    print('Exec D')\n",
    "    assert os.path.exists(tm.din('Cout'))\n",
    "    assert os.path.exists(tm.din('Bout'))"
   ]
  },
  {
   "cell_type": "code",
   "execution_count": 418,
   "metadata": {
    "ExecuteTime": {
     "end_time": "2017-05-02T14:37:31.060400Z",
     "start_time": "2017-05-02T14:37:30.998978Z"
    },
    "collapsed": false
   },
   "outputs": [
    {
     "name": "stdout",
     "output_type": "stream",
     "text": [
      "Exec A\n",
      "Exec B\n",
      "Exec C\n",
      "Exec D\n",
      "Exec D\n"
     ]
    }
   ],
   "source": [
    "D()\n",
    "D()"
   ]
  },
  {
   "cell_type": "code",
   "execution_count": 266,
   "metadata": {
    "ExecuteTime": {
     "end_time": "2017-05-02T14:03:56.439770Z",
     "start_time": "2017-05-02T14:03:56.291115Z"
    },
    "collapsed": false
   },
   "outputs": [
    {
     "name": "stderr",
     "output_type": "stream",
     "text": [
      "/home/ccc/.virtualenvs/astro/lib/python3.6/site-packages/networkx/drawing/nx_pylab.py:126: MatplotlibDeprecationWarning: pyplot.hold is deprecated.\n",
      "    Future behavior will be consistent with the long-time default:\n",
      "    plot commands add elements without first clearing the\n",
      "    Axes and/or Figure.\n",
      "  b = plt.ishold()\n",
      "/home/ccc/.virtualenvs/astro/lib/python3.6/site-packages/networkx/drawing/nx_pylab.py:138: MatplotlibDeprecationWarning: pyplot.hold is deprecated.\n",
      "    Future behavior will be consistent with the long-time default:\n",
      "    plot commands add elements without first clearing the\n",
      "    Axes and/or Figure.\n",
      "  plt.hold(b)\n",
      "/home/ccc/.virtualenvs/astro/lib/python3.6/site-packages/matplotlib/__init__.py:917: UserWarning: axes.hold is deprecated. Please remove it from your matplotlibrc and/or style files.\n",
      "  warnings.warn(self.msg_depr_set % key)\n",
      "/home/ccc/.virtualenvs/astro/lib/python3.6/site-packages/matplotlib/rcsetup.py:152: UserWarning: axes.hold is deprecated, will be removed in 3.0\n",
      "  warnings.warn(\"axes.hold is deprecated, will be removed in 3.0\")\n"
     ]
    },
    {
     "data": {
      "image/png": "[encoded data removed]",
      "text/plain": [
       "<matplotlib.figure.Figure at 0x7f54c2270940>"
      ]
     },
     "metadata": {},
     "output_type": "display_data"
    }
   ],
   "source": [
    "graph = nx.ego_graph(tm.graph, 'C', radius=100)\n",
    "layout = nx.layout.spectral_layout(graph)\n",
    "nx.draw(graph, pos=layout)\n",
    "_ = nx.draw_networkx_labels(graph, layout)"
   ]
  },
  {
   "cell_type": "code",
   "execution_count": null,
   "metadata": {
    "collapsed": true
   },
   "outputs": [],
   "source": []
  }
 ],
 "metadata": {
  "kernelspec": {
   "display_name": "Python 3",
   "language": "python",
   "name": "python3"
  },
  "language_info": {
   "codemirror_mode": {
    "name": "ipython",
    "version": 3
   },
   "file_extension": ".py",
   "mimetype": "text/x-python",
   "name": "python",
   "nbconvert_exporter": "python",
   "pygments_lexer": "ipython3",
   "version": "3.6.1"
  },
  "toc": {
   "colors": {
    "hover_highlight": "#DAA520",
    "running_highlight": "#FF0000",
    "selected_highlight": "#FFD700"
   },
   "moveMenuLeft": true,
   "nav_menu": {
    "height": "4px",
    "width": "254px"
   },
   "navigate_menu": true,
   "number_sections": true,
   "sideBar": true,
   "threshold": 4,
   "toc_cell": false,
   "toc_section_display": "block",
   "toc_window_display": false
  }
 },
 "nbformat": 4,
 "nbformat_minor": 2
}
